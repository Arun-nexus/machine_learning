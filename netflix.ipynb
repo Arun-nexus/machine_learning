{
 "cells": [
  {
   "cell_type": "code",
   "execution_count": null,
   "id": "a553423a",
   "metadata": {},
   "outputs": [],
   "source": [
    "import pandas as pd\n",
    "df=pd.read_csv(r\"C:\\Users\\Arun\\Downloads\\netflix_titles.csv\\netflix_titles.csv\")\n",
    "df.head()\n",
    "df=df[df[\"rating\"].notna()]\n",
    "print(df.isnull().sum())\n",
    "df[\"release_year\"] = df[\"release_year\"].astype(str)  \n",
    "print(df.dtypes)\n"
   ]
  },
  {
   "cell_type": "code",
   "execution_count": null,
   "id": "cfc42432",
   "metadata": {},
   "outputs": [],
   "source": [
    "rej=[\"country\",\"date_added\",\"duration\"]\n",
    "for i in rej:\n",
    "    df=df.drop(i,axis=1)\n",
    "df[\"new\"]=df[\"director\"]+df[\"cast\"]    \n",
    "df=df.fillna(\" \")\n",
    "df['new']=df[\"new\"].apply(lambda x : x.replace(\" \",\"\") )\n",
    "df[\"new\"].head(5)\n"
   ]
  },
  {
   "cell_type": "code",
   "execution_count": null,
   "id": "49e33809",
   "metadata": {},
   "outputs": [],
   "source": [
    "df.head()"
   ]
  },
  {
   "cell_type": "code",
   "execution_count": null,
   "id": "0b2255bc",
   "metadata": {},
   "outputs": [],
   "source": [
    "df[\"tags\"] = df[[\"type\", \"new\", \"release_year\", \"rating\", \"listed_in\", \"description\"]].agg(lambda x: ' '.join(x.astype(str)), axis=1)\n"
   ]
  },
  {
   "cell_type": "code",
   "execution_count": null,
   "id": "7f0a617f",
   "metadata": {},
   "outputs": [],
   "source": [
    "df = df[['show_id', 'title', 'tags']]\n",
    "df['tags']=df['tags'].apply(lambda x :x.lower())\n",
    "df.head()\n",
    "import nltk\n",
    "from nltk.stem import WordNetLemmatizer\n",
    "def stem(text):\n",
    "    y=[]\n",
    "    nltk.download('wordnet')\n",
    "    for i in text.split(\" \"):\n",
    "        model=WordNetLemmatizer()\n",
    "        y.append(model.lemmatize(i))\n",
    "        return \" \".join(y)\n",
    "\n",
    "# df['tags']=df['tags'].apply(stem)\n",
    "\n",
    "\n"
   ]
  },
  {
   "cell_type": "code",
   "execution_count": null,
   "id": "9e513eb8",
   "metadata": {},
   "outputs": [],
   "source": [
    "import numpy as np\n",
    "from sklearn.feature_extraction.text import TfidfVectorizer\n",
    "cv=TfidfVectorizer(max_features=5000,stop_words=\"english\",)\n",
    "vector = cv.fit_transform(df[\"tags\"]).toarray()\n",
    "vector\n"
   ]
  },
  {
   "cell_type": "code",
   "execution_count": null,
   "id": "cf924bc4",
   "metadata": {},
   "outputs": [],
   "source": [
    "cv.get_feature_names_out()[:500]"
   ]
  },
  {
   "cell_type": "code",
   "execution_count": null,
   "id": "5576dd7b",
   "metadata": {},
   "outputs": [],
   "source": [
    "from sklearn.metrics.pairwise import cosine_similarity\n",
    "similarity=cosine_similarity(vector)"
   ]
  },
  {
   "cell_type": "code",
   "execution_count": null,
   "id": "1ac81844",
   "metadata": {},
   "outputs": [],
   "source": [
    "def recommend(movie):\n",
    "    movie=df[df['title']==movie].index[0]\n",
    "    distance=similarity[movie]\n",
    "    movie_list=sorted(list(enumerate(distance)),reverse=True,key=lambda x:x[1])[1:6]\n",
    "    for i in movie_list:\n",
    "        print(df.iloc[i[0]].title)\n",
    "       \n",
    "    "
   ]
  },
  {
   "cell_type": "code",
   "execution_count": null,
   "id": "70c63775",
   "metadata": {},
   "outputs": [],
   "source": [
    "recommend(\"Kota Factory\")"
   ]
  },
  {
   "cell_type": "code",
   "execution_count": null,
   "id": "8551d7be",
   "metadata": {},
   "outputs": [],
   "source": []
  }
 ],
 "metadata": {
  "kernelspec": {
   "display_name": "Python 3",
   "language": "python",
   "name": "python3"
  },
  "language_info": {
   "codemirror_mode": {
    "name": "ipython",
    "version": 3
   },
   "file_extension": ".py",
   "mimetype": "text/x-python",
   "name": "python",
   "nbconvert_exporter": "python",
   "pygments_lexer": "ipython3",
   "version": "3.10.10"
  }
 },
 "nbformat": 4,
 "nbformat_minor": 5
}
